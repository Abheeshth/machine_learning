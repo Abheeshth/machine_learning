{
 "cells": [
  {
   "cell_type": "markdown",
   "metadata": {},
   "source": [
    "# Multiple Linear regression \n",
    "1 - here we deal with boston dataset"
   ]
  },
  {
   "cell_type": "code",
   "execution_count": 42,
   "metadata": {},
   "outputs": [],
   "source": [
    "from sklearn.datasets import load_boston\n",
    "import pandas as pd\n"
   ]
  },
  {
   "cell_type": "code",
   "execution_count": 43,
   "metadata": {},
   "outputs": [],
   "source": [
    "\n",
    "boston = load_boston()\n",
    "\n",
    "X = boston.data\n",
    "y = boston.target"
   ]
  },
  {
   "cell_type": "code",
   "execution_count": 44,
   "metadata": {},
   "outputs": [
    {
     "name": "stdout",
     "output_type": "stream",
     "text": [
      "(506, 13)\n",
      "(506,)\n"
     ]
    }
   ],
   "source": [
    "print(X.shape)\n",
    "print(y.shape)"
   ]
  },
  {
   "cell_type": "code",
   "execution_count": 45,
   "metadata": {},
   "outputs": [
    {
     "name": "stdout",
     "output_type": "stream",
     "text": [
      "['CRIM' 'ZN' 'INDUS' 'CHAS' 'NOX' 'RM' 'AGE' 'DIS' 'RAD' 'TAX' 'PTRATIO'\n",
      " 'B' 'LSTAT']\n"
     ]
    }
   ],
   "source": [
    "print(boston.feature_names)"
   ]
  },
  {
   "cell_type": "code",
   "execution_count": 46,
   "metadata": {},
   "outputs": [
    {
     "name": "stdout",
     "output_type": "stream",
     "text": [
      ".. _boston_dataset:\n",
      "\n",
      "Boston house prices dataset\n",
      "---------------------------\n",
      "\n",
      "**Data Set Characteristics:**  \n",
      "\n",
      "    :Number of Instances: 506 \n",
      "\n",
      "    :Number of Attributes: 13 numeric/categorical predictive. Median Value (attribute 14) is usually the target.\n",
      "\n",
      "    :Attribute Information (in order):\n",
      "        - CRIM     per capita crime rate by town\n",
      "        - ZN       proportion of residential land zoned for lots over 25,000 sq.ft.\n",
      "        - INDUS    proportion of non-retail business acres per town\n",
      "        - CHAS     Charles River dummy variable (= 1 if tract bounds river; 0 otherwise)\n",
      "        - NOX      nitric oxides concentration (parts per 10 million)\n",
      "        - RM       average number of rooms per dwelling\n",
      "        - AGE      proportion of owner-occupied units built prior to 1940\n",
      "        - DIS      weighted distances to five Boston employment centres\n",
      "        - RAD      index of accessibility to radial highways\n",
      "        - TAX      full-value property-tax rate per $10,000\n",
      "        - PTRATIO  pupil-teacher ratio by town\n",
      "        - B        1000(Bk - 0.63)^2 where Bk is the proportion of blacks by town\n",
      "        - LSTAT    % lower status of the population\n",
      "        - MEDV     Median value of owner-occupied homes in $1000's\n",
      "\n",
      "    :Missing Attribute Values: None\n",
      "\n",
      "    :Creator: Harrison, D. and Rubinfeld, D.L.\n",
      "\n",
      "This is a copy of UCI ML housing dataset.\n",
      "https://archive.ics.uci.edu/ml/machine-learning-databases/housing/\n",
      "\n",
      "\n",
      "This dataset was taken from the StatLib library which is maintained at Carnegie Mellon University.\n",
      "\n",
      "The Boston house-price data of Harrison, D. and Rubinfeld, D.L. 'Hedonic\n",
      "prices and the demand for clean air', J. Environ. Economics & Management,\n",
      "vol.5, 81-102, 1978.   Used in Belsley, Kuh & Welsch, 'Regression diagnostics\n",
      "...', Wiley, 1980.   N.B. Various transformations are used in the table on\n",
      "pages 244-261 of the latter.\n",
      "\n",
      "The Boston house-price data has been used in many machine learning papers that address regression\n",
      "problems.   \n",
      "     \n",
      ".. topic:: References\n",
      "\n",
      "   - Belsley, Kuh & Welsch, 'Regression diagnostics: Identifying Influential Data and Sources of Collinearity', Wiley, 1980. 244-261.\n",
      "   - Quinlan,R. (1993). Combining Instance-Based and Model-Based Learning. In Proceedings on the Tenth International Conference of Machine Learning, 236-243, University of Massachusetts, Amherst. Morgan Kaufmann.\n",
      "\n"
     ]
    }
   ],
   "source": [
    "print(boston.DESCR)"
   ]
  },
  {
   "cell_type": "code",
   "execution_count": 47,
   "metadata": {},
   "outputs": [
    {
     "data": {
      "text/html": [
       "<div>\n",
       "<style scoped>\n",
       "    .dataframe tbody tr th:only-of-type {\n",
       "        vertical-align: middle;\n",
       "    }\n",
       "\n",
       "    .dataframe tbody tr th {\n",
       "        vertical-align: top;\n",
       "    }\n",
       "\n",
       "    .dataframe thead th {\n",
       "        text-align: right;\n",
       "    }\n",
       "</style>\n",
       "<table border=\"1\" class=\"dataframe\">\n",
       "  <thead>\n",
       "    <tr style=\"text-align: right;\">\n",
       "      <th></th>\n",
       "      <th>CRIM</th>\n",
       "      <th>ZN</th>\n",
       "      <th>INDUS</th>\n",
       "      <th>CHAS</th>\n",
       "      <th>NOX</th>\n",
       "      <th>RM</th>\n",
       "      <th>AGE</th>\n",
       "      <th>DIS</th>\n",
       "      <th>RAD</th>\n",
       "      <th>TAX</th>\n",
       "      <th>PTRATIO</th>\n",
       "      <th>B</th>\n",
       "      <th>LSTAT</th>\n",
       "    </tr>\n",
       "  </thead>\n",
       "  <tbody>\n",
       "    <tr>\n",
       "      <td>0</td>\n",
       "      <td>0.00632</td>\n",
       "      <td>18.0</td>\n",
       "      <td>2.31</td>\n",
       "      <td>0.0</td>\n",
       "      <td>0.538</td>\n",
       "      <td>6.575</td>\n",
       "      <td>65.2</td>\n",
       "      <td>4.0900</td>\n",
       "      <td>1.0</td>\n",
       "      <td>296.0</td>\n",
       "      <td>15.3</td>\n",
       "      <td>396.90</td>\n",
       "      <td>4.98</td>\n",
       "    </tr>\n",
       "    <tr>\n",
       "      <td>1</td>\n",
       "      <td>0.02731</td>\n",
       "      <td>0.0</td>\n",
       "      <td>7.07</td>\n",
       "      <td>0.0</td>\n",
       "      <td>0.469</td>\n",
       "      <td>6.421</td>\n",
       "      <td>78.9</td>\n",
       "      <td>4.9671</td>\n",
       "      <td>2.0</td>\n",
       "      <td>242.0</td>\n",
       "      <td>17.8</td>\n",
       "      <td>396.90</td>\n",
       "      <td>9.14</td>\n",
       "    </tr>\n",
       "    <tr>\n",
       "      <td>2</td>\n",
       "      <td>0.02729</td>\n",
       "      <td>0.0</td>\n",
       "      <td>7.07</td>\n",
       "      <td>0.0</td>\n",
       "      <td>0.469</td>\n",
       "      <td>7.185</td>\n",
       "      <td>61.1</td>\n",
       "      <td>4.9671</td>\n",
       "      <td>2.0</td>\n",
       "      <td>242.0</td>\n",
       "      <td>17.8</td>\n",
       "      <td>392.83</td>\n",
       "      <td>4.03</td>\n",
       "    </tr>\n",
       "    <tr>\n",
       "      <td>3</td>\n",
       "      <td>0.03237</td>\n",
       "      <td>0.0</td>\n",
       "      <td>2.18</td>\n",
       "      <td>0.0</td>\n",
       "      <td>0.458</td>\n",
       "      <td>6.998</td>\n",
       "      <td>45.8</td>\n",
       "      <td>6.0622</td>\n",
       "      <td>3.0</td>\n",
       "      <td>222.0</td>\n",
       "      <td>18.7</td>\n",
       "      <td>394.63</td>\n",
       "      <td>2.94</td>\n",
       "    </tr>\n",
       "    <tr>\n",
       "      <td>4</td>\n",
       "      <td>0.06905</td>\n",
       "      <td>0.0</td>\n",
       "      <td>2.18</td>\n",
       "      <td>0.0</td>\n",
       "      <td>0.458</td>\n",
       "      <td>7.147</td>\n",
       "      <td>54.2</td>\n",
       "      <td>6.0622</td>\n",
       "      <td>3.0</td>\n",
       "      <td>222.0</td>\n",
       "      <td>18.7</td>\n",
       "      <td>396.90</td>\n",
       "      <td>5.33</td>\n",
       "    </tr>\n",
       "  </tbody>\n",
       "</table>\n",
       "</div>"
      ],
      "text/plain": [
       "      CRIM    ZN  INDUS  CHAS    NOX     RM   AGE     DIS  RAD    TAX  \\\n",
       "0  0.00632  18.0   2.31   0.0  0.538  6.575  65.2  4.0900  1.0  296.0   \n",
       "1  0.02731   0.0   7.07   0.0  0.469  6.421  78.9  4.9671  2.0  242.0   \n",
       "2  0.02729   0.0   7.07   0.0  0.469  7.185  61.1  4.9671  2.0  242.0   \n",
       "3  0.03237   0.0   2.18   0.0  0.458  6.998  45.8  6.0622  3.0  222.0   \n",
       "4  0.06905   0.0   2.18   0.0  0.458  7.147  54.2  6.0622  3.0  222.0   \n",
       "\n",
       "   PTRATIO       B  LSTAT  \n",
       "0     15.3  396.90   4.98  \n",
       "1     17.8  396.90   9.14  \n",
       "2     17.8  392.83   4.03  \n",
       "3     18.7  394.63   2.94  \n",
       "4     18.7  396.90   5.33  "
      ]
     },
     "execution_count": 47,
     "metadata": {},
     "output_type": "execute_result"
    }
   ],
   "source": [
    "import pandas as pd\n",
    "df = pd.DataFrame(X)\n",
    "df.columns = boston.feature_names\n",
    "df.head()\n"
   ]
  },
  {
   "cell_type": "code",
   "execution_count": 48,
   "metadata": {},
   "outputs": [
    {
     "data": {
      "text/html": [
       "<div>\n",
       "<style scoped>\n",
       "    .dataframe tbody tr th:only-of-type {\n",
       "        vertical-align: middle;\n",
       "    }\n",
       "\n",
       "    .dataframe tbody tr th {\n",
       "        vertical-align: top;\n",
       "    }\n",
       "\n",
       "    .dataframe thead th {\n",
       "        text-align: right;\n",
       "    }\n",
       "</style>\n",
       "<table border=\"1\" class=\"dataframe\">\n",
       "  <thead>\n",
       "    <tr style=\"text-align: right;\">\n",
       "      <th></th>\n",
       "      <th>CRIM</th>\n",
       "      <th>ZN</th>\n",
       "      <th>INDUS</th>\n",
       "      <th>CHAS</th>\n",
       "      <th>NOX</th>\n",
       "      <th>RM</th>\n",
       "      <th>AGE</th>\n",
       "      <th>DIS</th>\n",
       "      <th>RAD</th>\n",
       "      <th>TAX</th>\n",
       "      <th>PTRATIO</th>\n",
       "      <th>B</th>\n",
       "      <th>LSTAT</th>\n",
       "    </tr>\n",
       "  </thead>\n",
       "  <tbody>\n",
       "    <tr>\n",
       "      <td>count</td>\n",
       "      <td>506.000000</td>\n",
       "      <td>506.000000</td>\n",
       "      <td>506.000000</td>\n",
       "      <td>506.000000</td>\n",
       "      <td>506.000000</td>\n",
       "      <td>506.000000</td>\n",
       "      <td>506.000000</td>\n",
       "      <td>506.000000</td>\n",
       "      <td>506.000000</td>\n",
       "      <td>506.000000</td>\n",
       "      <td>506.000000</td>\n",
       "      <td>506.000000</td>\n",
       "      <td>506.000000</td>\n",
       "    </tr>\n",
       "    <tr>\n",
       "      <td>mean</td>\n",
       "      <td>3.613524</td>\n",
       "      <td>11.363636</td>\n",
       "      <td>11.136779</td>\n",
       "      <td>0.069170</td>\n",
       "      <td>0.554695</td>\n",
       "      <td>6.284634</td>\n",
       "      <td>68.574901</td>\n",
       "      <td>3.795043</td>\n",
       "      <td>9.549407</td>\n",
       "      <td>408.237154</td>\n",
       "      <td>18.455534</td>\n",
       "      <td>356.674032</td>\n",
       "      <td>12.653063</td>\n",
       "    </tr>\n",
       "    <tr>\n",
       "      <td>std</td>\n",
       "      <td>8.601545</td>\n",
       "      <td>23.322453</td>\n",
       "      <td>6.860353</td>\n",
       "      <td>0.253994</td>\n",
       "      <td>0.115878</td>\n",
       "      <td>0.702617</td>\n",
       "      <td>28.148861</td>\n",
       "      <td>2.105710</td>\n",
       "      <td>8.707259</td>\n",
       "      <td>168.537116</td>\n",
       "      <td>2.164946</td>\n",
       "      <td>91.294864</td>\n",
       "      <td>7.141062</td>\n",
       "    </tr>\n",
       "    <tr>\n",
       "      <td>min</td>\n",
       "      <td>0.006320</td>\n",
       "      <td>0.000000</td>\n",
       "      <td>0.460000</td>\n",
       "      <td>0.000000</td>\n",
       "      <td>0.385000</td>\n",
       "      <td>3.561000</td>\n",
       "      <td>2.900000</td>\n",
       "      <td>1.129600</td>\n",
       "      <td>1.000000</td>\n",
       "      <td>187.000000</td>\n",
       "      <td>12.600000</td>\n",
       "      <td>0.320000</td>\n",
       "      <td>1.730000</td>\n",
       "    </tr>\n",
       "    <tr>\n",
       "      <td>25%</td>\n",
       "      <td>0.082045</td>\n",
       "      <td>0.000000</td>\n",
       "      <td>5.190000</td>\n",
       "      <td>0.000000</td>\n",
       "      <td>0.449000</td>\n",
       "      <td>5.885500</td>\n",
       "      <td>45.025000</td>\n",
       "      <td>2.100175</td>\n",
       "      <td>4.000000</td>\n",
       "      <td>279.000000</td>\n",
       "      <td>17.400000</td>\n",
       "      <td>375.377500</td>\n",
       "      <td>6.950000</td>\n",
       "    </tr>\n",
       "    <tr>\n",
       "      <td>50%</td>\n",
       "      <td>0.256510</td>\n",
       "      <td>0.000000</td>\n",
       "      <td>9.690000</td>\n",
       "      <td>0.000000</td>\n",
       "      <td>0.538000</td>\n",
       "      <td>6.208500</td>\n",
       "      <td>77.500000</td>\n",
       "      <td>3.207450</td>\n",
       "      <td>5.000000</td>\n",
       "      <td>330.000000</td>\n",
       "      <td>19.050000</td>\n",
       "      <td>391.440000</td>\n",
       "      <td>11.360000</td>\n",
       "    </tr>\n",
       "    <tr>\n",
       "      <td>75%</td>\n",
       "      <td>3.677083</td>\n",
       "      <td>12.500000</td>\n",
       "      <td>18.100000</td>\n",
       "      <td>0.000000</td>\n",
       "      <td>0.624000</td>\n",
       "      <td>6.623500</td>\n",
       "      <td>94.075000</td>\n",
       "      <td>5.188425</td>\n",
       "      <td>24.000000</td>\n",
       "      <td>666.000000</td>\n",
       "      <td>20.200000</td>\n",
       "      <td>396.225000</td>\n",
       "      <td>16.955000</td>\n",
       "    </tr>\n",
       "    <tr>\n",
       "      <td>max</td>\n",
       "      <td>88.976200</td>\n",
       "      <td>100.000000</td>\n",
       "      <td>27.740000</td>\n",
       "      <td>1.000000</td>\n",
       "      <td>0.871000</td>\n",
       "      <td>8.780000</td>\n",
       "      <td>100.000000</td>\n",
       "      <td>12.126500</td>\n",
       "      <td>24.000000</td>\n",
       "      <td>711.000000</td>\n",
       "      <td>22.000000</td>\n",
       "      <td>396.900000</td>\n",
       "      <td>37.970000</td>\n",
       "    </tr>\n",
       "  </tbody>\n",
       "</table>\n",
       "</div>"
      ],
      "text/plain": [
       "             CRIM          ZN       INDUS        CHAS         NOX          RM  \\\n",
       "count  506.000000  506.000000  506.000000  506.000000  506.000000  506.000000   \n",
       "mean     3.613524   11.363636   11.136779    0.069170    0.554695    6.284634   \n",
       "std      8.601545   23.322453    6.860353    0.253994    0.115878    0.702617   \n",
       "min      0.006320    0.000000    0.460000    0.000000    0.385000    3.561000   \n",
       "25%      0.082045    0.000000    5.190000    0.000000    0.449000    5.885500   \n",
       "50%      0.256510    0.000000    9.690000    0.000000    0.538000    6.208500   \n",
       "75%      3.677083   12.500000   18.100000    0.000000    0.624000    6.623500   \n",
       "max     88.976200  100.000000   27.740000    1.000000    0.871000    8.780000   \n",
       "\n",
       "              AGE         DIS         RAD         TAX     PTRATIO           B  \\\n",
       "count  506.000000  506.000000  506.000000  506.000000  506.000000  506.000000   \n",
       "mean    68.574901    3.795043    9.549407  408.237154   18.455534  356.674032   \n",
       "std     28.148861    2.105710    8.707259  168.537116    2.164946   91.294864   \n",
       "min      2.900000    1.129600    1.000000  187.000000   12.600000    0.320000   \n",
       "25%     45.025000    2.100175    4.000000  279.000000   17.400000  375.377500   \n",
       "50%     77.500000    3.207450    5.000000  330.000000   19.050000  391.440000   \n",
       "75%     94.075000    5.188425   24.000000  666.000000   20.200000  396.225000   \n",
       "max    100.000000   12.126500   24.000000  711.000000   22.000000  396.900000   \n",
       "\n",
       "            LSTAT  \n",
       "count  506.000000  \n",
       "mean    12.653063  \n",
       "std      7.141062  \n",
       "min      1.730000  \n",
       "25%      6.950000  \n",
       "50%     11.360000  \n",
       "75%     16.955000  \n",
       "max     37.970000  "
      ]
     },
     "execution_count": 48,
     "metadata": {},
     "output_type": "execute_result"
    }
   ],
   "source": [
    "df.describe()"
   ]
  },
  {
   "cell_type": "code",
   "execution_count": 49,
   "metadata": {},
   "outputs": [],
   "source": [
    "\n",
    "# Normalise this dataset\n",
    "# Each feature must have 0 mean, unit variance\n",
    "import numpy as np\n",
    "u = np.mean(X,axis=0)\n",
    "std = np.std(X,axis=0)\n",
    "#print(u.shape,std.shape)"
   ]
  },
  {
   "cell_type": "code",
   "execution_count": 50,
   "metadata": {},
   "outputs": [],
   "source": [
    "# Normalise the Data\n",
    "X = (X-u)/std"
   ]
  },
  {
   "cell_type": "code",
   "execution_count": 51,
   "metadata": {},
   "outputs": [
    {
     "data": {
      "text/html": [
       "<div>\n",
       "<style scoped>\n",
       "    .dataframe tbody tr th:only-of-type {\n",
       "        vertical-align: middle;\n",
       "    }\n",
       "\n",
       "    .dataframe tbody tr th {\n",
       "        vertical-align: top;\n",
       "    }\n",
       "\n",
       "    .dataframe thead th {\n",
       "        text-align: right;\n",
       "    }\n",
       "</style>\n",
       "<table border=\"1\" class=\"dataframe\">\n",
       "  <thead>\n",
       "    <tr style=\"text-align: right;\">\n",
       "      <th></th>\n",
       "      <th>0</th>\n",
       "      <th>1</th>\n",
       "      <th>2</th>\n",
       "      <th>3</th>\n",
       "      <th>4</th>\n",
       "      <th>5</th>\n",
       "      <th>6</th>\n",
       "      <th>7</th>\n",
       "      <th>8</th>\n",
       "      <th>9</th>\n",
       "      <th>10</th>\n",
       "      <th>11</th>\n",
       "      <th>12</th>\n",
       "    </tr>\n",
       "  </thead>\n",
       "  <tbody>\n",
       "    <tr>\n",
       "      <td>0</td>\n",
       "      <td>-0.419782</td>\n",
       "      <td>0.284830</td>\n",
       "      <td>-1.287909</td>\n",
       "      <td>-0.272599</td>\n",
       "      <td>-0.144217</td>\n",
       "      <td>0.413672</td>\n",
       "      <td>-0.120013</td>\n",
       "      <td>0.140214</td>\n",
       "      <td>-0.982843</td>\n",
       "      <td>-0.666608</td>\n",
       "      <td>-1.459000</td>\n",
       "      <td>0.441052</td>\n",
       "      <td>-1.075562</td>\n",
       "    </tr>\n",
       "    <tr>\n",
       "      <td>1</td>\n",
       "      <td>-0.417339</td>\n",
       "      <td>-0.487722</td>\n",
       "      <td>-0.593381</td>\n",
       "      <td>-0.272599</td>\n",
       "      <td>-0.740262</td>\n",
       "      <td>0.194274</td>\n",
       "      <td>0.367166</td>\n",
       "      <td>0.557160</td>\n",
       "      <td>-0.867883</td>\n",
       "      <td>-0.987329</td>\n",
       "      <td>-0.303094</td>\n",
       "      <td>0.441052</td>\n",
       "      <td>-0.492439</td>\n",
       "    </tr>\n",
       "    <tr>\n",
       "      <td>2</td>\n",
       "      <td>-0.417342</td>\n",
       "      <td>-0.487722</td>\n",
       "      <td>-0.593381</td>\n",
       "      <td>-0.272599</td>\n",
       "      <td>-0.740262</td>\n",
       "      <td>1.282714</td>\n",
       "      <td>-0.265812</td>\n",
       "      <td>0.557160</td>\n",
       "      <td>-0.867883</td>\n",
       "      <td>-0.987329</td>\n",
       "      <td>-0.303094</td>\n",
       "      <td>0.396427</td>\n",
       "      <td>-1.208727</td>\n",
       "    </tr>\n",
       "    <tr>\n",
       "      <td>3</td>\n",
       "      <td>-0.416750</td>\n",
       "      <td>-0.487722</td>\n",
       "      <td>-1.306878</td>\n",
       "      <td>-0.272599</td>\n",
       "      <td>-0.835284</td>\n",
       "      <td>1.016303</td>\n",
       "      <td>-0.809889</td>\n",
       "      <td>1.077737</td>\n",
       "      <td>-0.752922</td>\n",
       "      <td>-1.106115</td>\n",
       "      <td>0.113032</td>\n",
       "      <td>0.416163</td>\n",
       "      <td>-1.361517</td>\n",
       "    </tr>\n",
       "    <tr>\n",
       "      <td>4</td>\n",
       "      <td>-0.412482</td>\n",
       "      <td>-0.487722</td>\n",
       "      <td>-1.306878</td>\n",
       "      <td>-0.272599</td>\n",
       "      <td>-0.835284</td>\n",
       "      <td>1.228577</td>\n",
       "      <td>-0.511180</td>\n",
       "      <td>1.077737</td>\n",
       "      <td>-0.752922</td>\n",
       "      <td>-1.106115</td>\n",
       "      <td>0.113032</td>\n",
       "      <td>0.441052</td>\n",
       "      <td>-1.026501</td>\n",
       "    </tr>\n",
       "  </tbody>\n",
       "</table>\n",
       "</div>"
      ],
      "text/plain": [
       "          0         1         2         3         4         5         6  \\\n",
       "0 -0.419782  0.284830 -1.287909 -0.272599 -0.144217  0.413672 -0.120013   \n",
       "1 -0.417339 -0.487722 -0.593381 -0.272599 -0.740262  0.194274  0.367166   \n",
       "2 -0.417342 -0.487722 -0.593381 -0.272599 -0.740262  1.282714 -0.265812   \n",
       "3 -0.416750 -0.487722 -1.306878 -0.272599 -0.835284  1.016303 -0.809889   \n",
       "4 -0.412482 -0.487722 -1.306878 -0.272599 -0.835284  1.228577 -0.511180   \n",
       "\n",
       "          7         8         9        10        11        12  \n",
       "0  0.140214 -0.982843 -0.666608 -1.459000  0.441052 -1.075562  \n",
       "1  0.557160 -0.867883 -0.987329 -0.303094  0.441052 -0.492439  \n",
       "2  0.557160 -0.867883 -0.987329 -0.303094  0.396427 -1.208727  \n",
       "3  1.077737 -0.752922 -1.106115  0.113032  0.416163 -1.361517  \n",
       "4  1.077737 -0.752922 -1.106115  0.113032  0.441052 -1.026501  "
      ]
     },
     "execution_count": 51,
     "metadata": {},
     "output_type": "execute_result"
    }
   ],
   "source": [
    "# Normalised Data\n",
    "pd.DataFrame(X[:5,:]).head()"
   ]
  },
  {
   "cell_type": "code",
   "execution_count": 52,
   "metadata": {},
   "outputs": [
    {
     "data": {
      "image/png": "[encoded data removed]",
      "text/plain": [
       "<Figure size 576x396 with 1 Axes>"
      ]
     },
     "metadata": {},
     "output_type": "display_data"
    }
   ],
   "source": [
    "\n",
    "# Plot Y vs any feature\n",
    "import matplotlib.pyplot as plt\n",
    "\n",
    "plt.style.use('seaborn')\n",
    "plt.scatter(X[:,5],y)\n",
    "plt.show()"
   ]
  },
  {
   "cell_type": "markdown",
   "metadata": {},
   "source": [
    "## SECTION 2 LINEAR REGRESSION ON MULTIPLE FEATURES \n",
    "BOSTON hOUSING DATASET"
   ]
  },
  {
   "cell_type": "code",
   "execution_count": 53,
   "metadata": {},
   "outputs": [
    {
     "data": {
      "text/plain": [
       "((506, 13), (506,))"
      ]
     },
     "execution_count": 53,
     "metadata": {},
     "output_type": "execute_result"
    }
   ],
   "source": [
    "X.shape, y.shape"
   ]
  },
  {
   "cell_type": "code",
   "execution_count": 54,
   "metadata": {},
   "outputs": [
    {
     "name": "stdout",
     "output_type": "stream",
     "text": [
      "(506, 14)\n"
     ]
    }
   ],
   "source": [
    "ones = np.ones((X.shape[0],1))\n",
    "X = np.hstack((ones,X))\n",
    "print(X.shape)"
   ]
  },
  {
   "cell_type": "code",
   "execution_count": 55,
   "metadata": {},
   "outputs": [
    {
     "name": "stdout",
     "output_type": "stream",
     "text": [
      "[ 1.         -0.41675042 -0.48772236 -1.30687771 -0.27259857 -0.83528384\n",
      "  1.01630251 -0.80988851  1.07773662 -0.75292215 -1.10611514  0.1130321\n",
      "  0.41616284 -1.36151682]\n"
     ]
    }
   ],
   "source": [
    "print(X[3])"
   ]
  },
  {
   "cell_type": "code",
   "execution_count": 56,
   "metadata": {},
   "outputs": [],
   "source": [
    "\n",
    "# X - Matrix ( m x n)\n",
    "# x - Vector (Single Example with n features)\n",
    "\n",
    "def hypothesis(x,theta):\n",
    "    y_ = 0.0\n",
    "    n = x.shape[0]\n",
    "    for i in range(n):\n",
    "        y_  += (theta[i]*x[i])\n",
    "    return y_\n",
    "\n",
    "def error(X,y,theta):\n",
    "    e = 0.0\n",
    "    m = X.shape[0]\n",
    "    \n",
    "    for i in range(m):\n",
    "        y_ = hypothesis(X[i],theta)\n",
    "        e += (y[i] - y_)**2\n",
    "        \n",
    "    return e/m\n",
    "\n",
    "def gradient(X,y,theta):\n",
    "    m,n = X.shape\n",
    "    \n",
    "    grad = np.zeros((n,))\n",
    "    \n",
    "    # for all values of j\n",
    "    for j in range(n):\n",
    "        #sum over all examples\n",
    "        for i in range(m):\n",
    "            y_ = hypothesis(X[i],theta)\n",
    "            grad[j] += (y_ - y[i])*X[i][j]\n",
    "    # Out of the loops\n",
    "    return grad/m\n",
    "\n",
    "def gradient_descent(X,y,learning_rate=0.1,max_epochs=300):\n",
    "    m,n = X.shape\n",
    "    theta = np.zeros((n,))\n",
    "    error_list = []\n",
    "    \n",
    "    for i in range(max_epochs):\n",
    "        e = error(X,y,theta)\n",
    "        error_list.append(e)\n",
    "        \n",
    "        # Gradient Descent\n",
    "        grad = gradient(X,y,theta)\n",
    "        for j in range(n):\n",
    "            theta[j] = theta[j] - learning_rate*grad[j]\n",
    "        \n",
    "    return theta,error_list"
   ]
  },
  {
   "cell_type": "code",
   "execution_count": 57,
   "metadata": {},
   "outputs": [
    {
     "name": "stdout",
     "output_type": "stream",
     "text": [
      "Time taken is  16.747833967208862\n"
     ]
    }
   ],
   "source": [
    "\n",
    "import time\n",
    "start = time.time()\n",
    "theta,error_list = gradient_descent(X,y)\n",
    "end = time.time()\n",
    "print(\"Time taken is \", end-start)"
   ]
  },
  {
   "cell_type": "markdown",
   "metadata": {},
   "source": [
    "### QUITE SLOW 18 SECONDS JUST 506 EXAMPLES IN THE TRAINING DATA\n"
   ]
  },
  {
   "cell_type": "code",
   "execution_count": 58,
   "metadata": {},
   "outputs": [
    {
     "name": "stdout",
     "output_type": "stream",
     "text": [
      "[ 2.25328063e+01 -9.03091692e-01  1.03815625e+00  1.53477685e-02\n",
      "  6.99554920e-01 -2.02101672e+00  2.70014278e+00 -1.93085233e-03\n",
      " -3.10234837e+00  2.34354753e+00 -1.72031485e+00 -2.04614394e+00\n",
      "  8.47845679e-01 -3.73089521e+00]\n"
     ]
    }
   ],
   "source": [
    "\n",
    "print(theta)"
   ]
  },
  {
   "cell_type": "code",
   "execution_count": 59,
   "metadata": {},
   "outputs": [
    {
     "data": {
      "image/png": "[encoded data removed]",
      "text/plain": [
       "<Figure size 576x396 with 1 Axes>"
      ]
     },
     "metadata": {},
     "output_type": "display_data"
    }
   ],
   "source": [
    "plt.plot(error_list)\n",
    "plt.show()"
   ]
  },
  {
   "cell_type": "markdown",
   "metadata": {},
   "source": [
    "#### prediction"
   ]
  },
  {
   "cell_type": "code",
   "execution_count": 60,
   "metadata": {},
   "outputs": [],
   "source": [
    "y_ = []\n",
    "m = X.shape[0]\n",
    "\n",
    "for i in range(m):\n",
    "    pred = hypothesis(X[i],theta)\n",
    "    y_.append(pred)\n",
    "y_ = np.array(y_)"
   ]
  },
  {
   "cell_type": "code",
   "execution_count": 61,
   "metadata": {},
   "outputs": [],
   "source": [
    "def r2_score(y,y_):\n",
    "    num = np.sum((y-y_)**2)\n",
    "    denom = np.sum((y- y.mean())**2)\n",
    "    score = (1- num/denom)\n",
    "    return score*100"
   ]
  },
  {
   "cell_type": "code",
   "execution_count": 62,
   "metadata": {},
   "outputs": [
    {
     "data": {
      "text/plain": [
       "74.04541323942743"
      ]
     },
     "execution_count": 62,
     "metadata": {},
     "output_type": "execute_result"
    }
   ],
   "source": [
    "# SCORE\n",
    "r2_score(y,y_)\n"
   ]
  },
  {
   "cell_type": "markdown",
   "metadata": {},
   "source": [
    "# sedction 3 optimsing code using vectorization\n",
    "An Efficent Implemenation for Linear Regression using Vectorization\n",
    "\n",
    "Avoid loops in the implemenation, except gradient descent main loop\n",
    "\n",
    "\n",
    "Use numpy functions like np.sum(), np.dot() which are quite fast and already optimised"
   ]
  },
  {
   "cell_type": "code",
   "execution_count": 98,
   "metadata": {},
   "outputs": [],
   "source": [
    "def hypothesis(X,theta):\n",
    "    return np.dot(X,theta)\n",
    "\n",
    "def error(X,y,theta):\n",
    "    e = 0.0\n",
    "    y_ = hypothesis(X,theta)\n",
    "    e = np.sum((y-y_)**2)\n",
    "    \n",
    "    return e/m\n",
    "    \n",
    "def gradient(X,y,theta):\n",
    "    \n",
    "    y_ = hypothesis(X,theta)\n",
    "    grad = np.dot(X.T,(y_ - y)) \n",
    "    m = X.shape[0]\n",
    "    return grad/m\n",
    "\n",
    "def gradient_descent(X,y,learning_rate = 0.1,max_iters=300):\n",
    "    \n",
    "    n = X.shape[1]\n",
    "    theta = np.zeros((n,))\n",
    "    error_list = []\n",
    "    \n",
    "    for i in range(max_iters):\n",
    "        e = error(X,y,theta)\n",
    "        error_list.append(e)\n",
    "        \n",
    "        #Gradient descent\n",
    "        grad = gradient(X,y,theta)\n",
    "        theta = theta - learning_rate*grad\n",
    "        \n",
    "    return theta,error_list"
   ]
  },
  {
   "cell_type": "code",
   "execution_count": 99,
   "metadata": {},
   "outputs": [
    {
     "name": "stdout",
     "output_type": "stream",
     "text": [
      "Time taken by Vectorized Code 0.032923221588134766\n"
     ]
    }
   ],
   "source": [
    "\n",
    "start = time.time()\n",
    "theta,error_list = gradient_descent(X,y)\n",
    "end = time.time()\n",
    "print(\"Time taken by Vectorized Code\",end-start)\n"
   ]
  },
  {
   "cell_type": "markdown",
   "metadata": {},
   "source": [
    "### really very fast! :D"
   ]
  },
  {
   "cell_type": "code",
   "execution_count": 100,
   "metadata": {},
   "outputs": [
    {
     "data": {
      "text/plain": [
       "array([ 2.25328063e+01, -9.03091692e-01,  1.03815625e+00,  1.53477685e-02,\n",
       "        6.99554920e-01, -2.02101672e+00,  2.70014278e+00, -1.93085233e-03,\n",
       "       -3.10234837e+00,  2.34354753e+00, -1.72031485e+00, -2.04614394e+00,\n",
       "        8.47845679e-01, -3.73089521e+00])"
      ]
     },
     "execution_count": 100,
     "metadata": {},
     "output_type": "execute_result"
    }
   ],
   "source": [
    "theta"
   ]
  },
  {
   "cell_type": "code",
   "execution_count": 101,
   "metadata": {},
   "outputs": [
    {
     "data": {
      "image/png": "[encoded data removed]",
      "text/plain": [
       "<Figure size 576x396 with 1 Axes>"
      ]
     },
     "metadata": {},
     "output_type": "display_data"
    }
   ],
   "source": [
    "plt.plot(error_list)\n",
    "plt.show()"
   ]
  },
  {
   "cell_type": "code",
   "execution_count": 102,
   "metadata": {},
   "outputs": [
    {
     "data": {
      "text/plain": [
       "74.04541323942742"
      ]
     },
     "execution_count": 102,
     "metadata": {},
     "output_type": "execute_result"
    }
   ],
   "source": [
    "#pridictionsdatAAAAAlwSFlzAAALEgAACxIB0t1+/AAAADh0RVh0U29mdHdhcmUAbWF0cGxvdGxpYiB2ZXJzaWZAAAgAElEQVR4nO3df3Bcdf3v8dfZX9mk3TZJs4mmCFag3/bamOoNdy7VIOMWmnLvaIQ6rbn4o7ao09jBmUpbpKPewRFo8XvF2gEsUGuVIV+iX6dzdUyH79h78d4QLw1m2gtXQFChpMlum7JpdjdpNuf+kWSbbX7SbLLnx/MxA9mcPXv2s+/Z6Sufz/mczzFM0zQFAADyypPvBgAAAAIZAABLIJABALAAAhkAAAsgkAEAsAACGQAAC/Dl882j0d6cHq+kpEg9PYmcHtPOqEc26pGNemSjHtmoR7Zc1SMcDk36nKN6yD6fN99NsBTqkY16ZKMe2ahHNuqRbT7q4ahABgDArghkAAAsgEAGAMACCGQAACxgRrOsjx49qieeeEI+n0933323li9frp07dyqdTiscDmvfvn0KBAI6evSoDh8+LI/Ho40bN2rDhg1z3X4AABxh2kDu6enRgQMH9Ktf/UqJREL79+/X73//ezU0NGj9+vXau3evmpubVV9frwMHDqi5uVl+v1/19fVau3atiouL5+NzAABga9MOWbe2turGG2/UwoULVV5ervvvv19tbW2KRCKSpEgkotbWVnV0dKiqqkqhUEjBYFA1NTVqb2+f8w8AAIATTNtDfvvtt2Wapr75zW+qu7tb27dvVzKZVCAQkCSFw2FFo1HFYjGVlpZmXldWVqZoNDp3LQcAwEFmdA65q6tLP/nJT/TOO+/oi1/8ogzDyDxnmmbWz7Hbx+43kZKSopxfbD3VKihuRD2yUY9s1CMb9chGPbLNdT2mDeQlS5boox/9qHw+n66++motWLBAXq9XqVRKwWBQXV1dKi8vV0VFhY4fP555XXd3t1avXj3lsXO9LFs4HMr5cpx2Rj2yUY9s1CMb9chGPbLlqh6zWjrzE5/4hF544QUNDQ3p3LlzSiQSWrNmjVpaWiRJx44dU21traqrq3Xy5EnF43H19fWpvb1dNTU1s278TPUmBnT8xFsauqynDgCAHUzbQ66oqNC6dev0pS99SclkUnv27FFVVZV27dqlpqYmVVZWqr6+Xn6/Xzt27NCWLVtkGIYaGxsVCs3fcMf/7HhHv/ofb+i+L/57XVu5eN7eFwCAXJjROeRNmzZp06ZNWdsOHTo0br+6ujrV1dXlpmXvUXpouGecGkjn5f0BAJgNx6zU5fMOf5R0eijPLQEA4L1zTiB7hmd0p9OcQwYA2I9jAtk70kMeHCKQAQD246BAHu0hM2QNALAf5wTyyJD1IEPWAAAbckwg+zJD1vSQAQD247hAZlIXAMCOHBPIXg/nkAEA9uWYQPaNTupiljUAwIYcE8hez8g5ZHrIAAAbckwgj/aQmWUNALAjxwTy6MIgDFkDAOzIOYGcuQ6ZIWsAgP04JpC57AkAYGcOCuTRWdb0kAEA9uOYQGbpTACAnTkmkDND1vSQAQA25JhApocMALAz5wSyl4VBAAD25ZhAZulMAICdOSaQR5fO5OYSAAA7ck4g00MGANiYYwLZYxjyeAwmdQEAbMkxgSwNX/rEpC4AgB05KpD9XoMhawCALTkqkL30kAEANuWoQPZ5PdxcAgBgSw4LZIOlMwEAtuSwQPYwyxoAYEvOCmSfh0ldAABbclYge5jUBQCwJ2cFso+FQQAA9uSsQPZ6mNQFALAlxwWyaUpDnEcGANiM4wJZEr1kAIDtOCqQR+/4xHlkAIDdOCqQR3vIzLQGANiNowLZnxmypocMALAXRwXypSFresgAAHvxTbfDqVOntG3bNl1zzTWSpOXLl2vr1q3auXOn0um0wuGw9u3bp0AgoKNHj+rw4cPyeDzauHGjNmzYMOcfYCwfPWQAgE1NG8iJRELr1q3Tfffdl9l27733qqGhQevXr9fevXvV3Nys+vp6HThwQM3NzfL7/aqvr9fatWtVXFw8px9grEvnkAlkAIC9TDtk3dfXN25bW1ubIpGIJCkSiai1tVUdHR2qqqpSKBRSMBhUTU2N2tvbc9/iKfh8Iz1khqwBADYzox7yiRMntHXrViWTSW3fvl3JZFKBQECSFA6HFY1GFYvFVFpamnldWVmZotHolMcuKSmSz+ed5Ue4ZLSHHFpUqHA4lLPj2hl1yEY9slGPbNQjG/XINtf1mDaQV6xYocbGRkUiEb355pvavHmzBgcHM8+bppn1c+x2wzCmPHZPT+JK2jwp38ikrtjZCyopnPajOV44HFI02pvvZlgG9chGPbJRj2zUI1uu6jFVqE87ZH3ttddmhqeXLVumsrIyxeNxpVIpSVJXV5fKy8tVUVGhWCyWeV13d7fC4fBs2/6ecA4ZAGBX0wZyc3Ozfv7zn0uSotGozp49q9tvv10tLS2SpGPHjqm2tlbV1dU6efKk4vG4+vr61N7erpqamrlt/WVYOhMAYFfTjuvecsst+ta3vqWWlhYNDAzoe9/7nlauXKldu3apqalJlZWVqq+vl9/v144dO7RlyxYZhqHGxkaFQvN7/sHH0pkAAJuaNpAXL16sgwcPjtt+6NChcdvq6upUV1eXm5ZdgUwPmUAGANiMw1bqYsgaAGBPjgpkbi4BALArRwWy3zd8DpkhawCA3TgqkL2ekR4ya1kDAGzGUYHM0pkAALtyViB7uOwJAGBPzgpkH7OsAQD25KxA5jpkAIBNOTKQB+khAwBsxmGBzDlkAIA9OSqQvQxZAwBsylGB7GfIGgBgU84K5JFZ1oODBDIAwF4cFsheSdJFFgYBANiMowI54B/+OBfpIQMAbMZhgTzSQyaQAQA246xA9tFDBgDYk6MC2ev1yGMYBDIAwHYcFciS5Pd7CGQAgO04L5C9Hg0MpvPdDAAA3hPnBbKPHjIAwH4cF8gBn4frkAEAtuO4QPb7PLp4kUAGANiLAwPZSw8ZAGA7Dgzk4XPIpskdnwAA9uHIQJakQXrJAAAbcVwgs1oXAMCOHBfIoz3kAQIZAGAjjg1kesgAADtxYCBzxycAgP04L5C99JABAPbjuEAO+AlkAID9OC6QL/WQucEEAMA+nBfIzLIGANiQYwOZIWsAgJ0QyAAAWIDjAjkwetkTS2cCAGzEcYFMDxkAYEczCuRUKqVIJKJf//rX6uzs1Be+8AU1NDTo7rvv1sDAgCTp6NGjuuOOO/S5z31Ozc3Nc9roqfgyk7qYZQ0AsI8ZBfKjjz6q4uJiSdKPf/xjNTQ06Omnn9bSpUvV3NysRCKhAwcO6Gc/+5mOHDmiJ554QufPn5/Thk+Gm0sAAOxo2kD+61//qtdff10333yzJKmtrU2RSESSFIlE1Nraqo6ODlVVVSkUCikYDKqmpkbt7e1z2vDJMGQNALCjaQP5oYce0u7duzO/J5NJBQIBSVI4HFY0GlUsFlNpaWlmn7KyMkWj0Tlo7vQCrGUNALAh31RP/uY3v9Hq1av1gQ98ILPNMIzMY9M0s36O3T52v8mUlBTJNxKguVIeXihJ8vq9CodDOT22HVGDbNQjG/XIRj2yUY9sc12PKQP5+PHjeuutt3T8+HGdOXNGgUBAhYWFSqVSCgaD6urqUnl5uSoqKnT8+PHM67q7u7V69epp37ynJzHrDzBWOBxSb29KktTb269otDenx7ebcDjk+hqMRT2yUY9s1CMb9ciWq3pMFepTBvKPfvSjzOP9+/dr6dKleumll9TS0qLPfOYzOnbsmGpra1VdXa09e/YoHo/L6/Wqvb1d3/72t2fd8CsRYJY1AMCGpgzkiWzfvl27du1SU1OTKisrVV9fL7/frx07dmjLli0yDEONjY0KhfIz1MGkLgCAHc04kLdv3555fOjQoXHP19XVqa6uLjetmgXuhwwAsCNW6gIAwAIcF8iGYcjn9bCWNQDAVhwXyNLwxK6BiwQyAMA+HBnIfh89ZACAvTg2kAe57AkAYCOODeQBJnUBAGyEQAYAwAIcGcgBv1cDF9Pj1tgGAMCqHBnIBX6vTFMaTBPIAAB7cGwgS1L/RSZ2AQDswZGBHPCP3GCCQAYA2IQjA5keMgDAbghkAAAswJGBHBgJZJbPBADYhSMDuWDkHDI9ZACAXTgykEd7yP0DBDIAwB4cGcicQwYA2I2jA5nlMwEAduHIQB69DpkhawCAXTgykDM9ZIasAQA24ehA5hwyAMAuCGQAACzAkYF8aS1rJnUBAOzBkYFMDxkAYDeODOQAgQwAsBlHBjKzrAEAduPIQPZ4DPm8HnrIAADbcGQgS8M3mGBSFwDALpwbyAEvPWQAgG04N5D9BDIAwD4cG8gBH4EMALAPxwby6Dlk0zTz3RQAAKbl2EAOBLgFIwDAPhwbyKzWBQCwE8cGcsA30kPmnsgAABtwbCAXBOghAwDsw7mBPHrHJ84hAwBswMGBPNJDZsgaAGADjg1k7vgEALAT33Q7JJNJ7d69W2fPnlV/f7+2bdumFStWaOfOnUqn0wqHw9q3b58CgYCOHj2qw4cPy+PxaOPGjdqwYcN8fIYJMcsaAGAn0wbyH/7wB61atUp33XWXTp8+ra985Sv62Mc+poaGBq1fv1579+5Vc3Oz6uvrdeDAATU3N8vv96u+vl5r165VcXHxfHyOcQoLhgM52T+Yl/cHAOC9mHbI+rbbbtNdd90lSers7FRFRYXa2toUiUQkSZFIRK2trero6FBVVZVCoZCCwaBqamrU3t4+t62fQjAw/LdGinPIAAAbmLaHPGrTpk06c+aMHnvsMW3evFmBQECSFA6HFY1GFYvFVFpamtm/rKxM0Wg09y2eocKRy54IZACAHcw4kJ955hm98soruueee2QYRmb76FrRl68ZbZpm1n4TKSkpkm9kAY9cCYdDkqSe5PBQteH1ZLa5kZs/+0SoRzbqkY16ZKMe2ea6HtMG8qlTp7RkyRK9//3v18qVK5VOp1VYWKhUKqVgMKiuri6Vl5eroqJCx48fz7yuu7tbq1evnvLYPT2JWX+AscLhkKLRXklSKtEvSTp3PpnZ5jZj6wHqcTnqkY16ZKMe2XJVj6lCfdpzyC+++KKeeuopSVIsFlMikdCaNWvU0tIiSTp27Jhqa2tVXV2tkydPKh6Pq6+vT+3t7aqpqZl146/UpXPITOoCAFjftD3kTZs26b777lNDQ4NSqZS+853vaNWqVdq1a5eamppUWVmp+vp6+f1+7dixQ1u2bJFhGGpsbFQolL/hjtFZ1pxDBgDYwbSBHAwG9cMf/nDc9kOHDo3bVldXp7q6uty0bJYK/F4ZklJc9gQAsAHHrtRlGIYKAl4l6SEDAGzAsYEsSYUFPs4hAwBswdGBHAx4leynhwwAsD6HB7KPSV0AAFtweCB7NZge0mCaeyIDAKzN0YFcWMB61gAAe3B0IAdH17Pm0icAgMU5OpALR1br4tInAIDVOTqQg5nVuughAwCszdmBPDJkzaVPAACrc3ggc4MJAIA9ODyQucEEAMAeHB3ImcuemGUNALA4RwcyPWQAgF04OpBHe8hJziEDACzO0YFMDxkAYBcOD+SRHjLnkAEAFufoQC4aHbLmOmQAgMU5OpADfo+8HkOJ1MV8NwUAgCk5OpANw1BR0KcEQ9YAAItzdCBLUlHQr74UgQwAsDbnB3KBT4nURZmmme+mAAAwKccH8oKgT4NpUxcHh/LdFAAAJuX4QC4KDs+0ZtgaAGBlLghkvyQxsQsAYGmOD+QFIz1kLn0CAFiZ4wOZIWsAgB04P5BHV+sikAEAFub4QF4wcg65jyFrAICFOT6QC0fPITOpCwBgYY4P5EuTughkAIB1OT6QixiyBgDYgPMDuYAeMgDA+ghkAAAswPGB7PEYKizwcR0yAMDSHB/I0nAvOdnPOWQAgHW5IpAXBOkhAwCszRWBXBT0KTWQVnqIWzACAKzJFYG8sHDk0qckvWQAgDX5ZrLT3r17deLECQ0ODuprX/uaqqqqtHPnTqXTaYXDYe3bt0+BQEBHjx7V4cOH5fF4tHHjRm3YsGGu2z8jC4sCkqTexIAWLQjkuTUAAIw3bSC/8MILeu2119TU1KSenh599rOf1Y033qiGhgatX79ee/fuVXNzs+rr63XgwAE1NzfL7/ervr5ea9euVXFx8Xx8jimFRnrIF5JM7AIAWNO0Q9Y33HCDHnnkEUnS4sWLlUwm1dbWpkgkIkmKRCJqbW1VR0eHqqqqFAqFFAwGVVNTo/b29rlt/QyFioYDuTdBIAMArGnaHrLX61VRUZEk6dlnn9VNN92kP/7xjwoEhod+w+GwotGoYrGYSktLM68rKytTNBqd8tglJUXy+byzaf844XBo3LbKikWSJNPrmfB5J3Pb550O9chGPbJRj2zUI9tc12NG55Al6bnnnlNzc7OeeuoprVu3LrPdNM2sn2O3G4Yx5TF7ehLvpa3TCodDikZ7x20302lJUmd374TPO9Vk9XAr6pGNemSjHtmoR7Zc1WOqUJ/RLOvnn39ejz32mA4ePKhQKKTCwkKlUilJUldXl8rLy1VRUaFYLJZ5TXd3t8Lh8Cybnhuj55AZsgYAWNW0gdzb26u9e/fq8ccfz0zQWrNmjVpaWiRJx44dU21traqrq3Xy5EnF43H19fWpvb1dNTU1c9v6GQqNmWUNAIAVTTtk/bvf/U49PT365je/mdn24IMPas+ePWpqalJlZaXq6+vl9/u1Y8cObdmyRYZhqLGxUaGQNc4/LGSWNQDA4qYN5I0bN2rjxo3jth86dGjctrq6OtXV1eWmZTnk93kUDHgZsgYAWJYrVuqShnvJ9JABAFblmkAOFQXUmxgYNxscAAArcFEg+zWYNpUaSOe7KQAAjOOeQB699IlhawCABbkmkBdmls/k0icAgPW4JpAvXYtMDxkAYD2uCeSFhfSQAQDW5ZpALl443EOO9xHIAADrcU0gL15QIEk630sgAwCsxzWBXBwaCeS+/jy3BACA8VwTyKEivzyGofMXCGQAgPW4JpA9hqFFC/x69wJD1gAA63FNIEtS8cICnb/A8pkAAOtxXSAPpofUlxrMd1MAAMjiskAevvTpXc4jAwAsxlWBvHjhyExrziMDACzGVYE82kNmpjUAwGpcFciXesgEMgDAWlwVyCUjgcylTwAAq3FVIC9myBoAYFGuCuRFRQF5DEM9BDIAwGJcFcgej6GSUIHOvpvKd1MAAMjiqkCWpLLFQZ2/MKCLg0P5bgoAABmuC+Qli4OSpHO99JIBANbhukAuGwlkhq0BAFbiukBesmg4kGMEMgDAQlwXyPSQAQBW5LpAHj2HfDZOIAMArMN1gVy6KChDDFkDAKzFdYHs83pUzLXIAACLcV0gS8MTu3p6+5Ue4lpkAIA1uDKQy4qDGjJNnY2zhCYAwBpcGcjvKymSJHWdS+S5JQAADHNnIC8ZDuQzZwlkAIA1uDOQS0cCmR4yAMAiXBnIFSUEMgDAWlwZyAUBr0pCBQQyAMAyXBnI0vCwdU9vv1IDg/luCgAAMwvkV199VWvXrtUvfvELSVJnZ6e+8IUvqKGhQXfffbcGBgYkSUePHtUdd9yhz33uc2pubp67VufA6MSurnPJPLcEAIAZBHIikdD999+vG2+8MbPtxz/+sRoaGvT0009r6dKlam5uViKR0IEDB/Szn/1MR44c0RNPPKHz58/PaeNnY3RiV+e5vjy3BACAGQRyIBDQwYMHVV5entnW1tamSCQiSYpEImptbVVHR4eqqqoUCoUUDAZVU1Oj9vb2uWv5LFUuWSBJeifGeWQAQP75pt3B55PPl71bMplUIBCQJIXDYUWjUcViMZWWlmb2KSsrUzQazXFzc+eq8oWSpLe7L+S5JQAAzCCQJ2IYRuaxaZpZP8duH7vfREpKiuTzea+kCZMKh0Mz3E8qXVSgt2N9M36NHTn5s10J6pGNemSjHtmoR7a5rscVBXJhYaFSqZSCwaC6urpUXl6uiooKHT9+PLNPd3e3Vq9ePeVxenpyO1wcDocUjfbOeP+lZQt18o2zevMf57Sw0J/TtljBe62H01GPbNQjG/XIRj2y5aoeU4X6FV32tGbNGrW0tEiSjh07ptraWlVXV+vkyZOKx+Pq6+tTe3u7ampqrqzF8+TqiuFh67e6+NIBAPJr2h7yqVOn9NBDD+n06dPy+XxqaWnRww8/rN27d6upqUmVlZWqr6+X3+/Xjh07tGXLFhmGocbGRoVC1h7u+MDIeeR/dF/Qyg+WTrM3AABzZ9pAXrVqlY4cOTJu+6FDh8Ztq6urU11dXW5aNg+urhj+g+EfXUzsAgDkl2tX6pKk8pJCFfi9+tuZeL6bAgBwOVcHsscw9KHKReo8m9CF5MV8NwcA4GKuDmRJum7pYknSX0+/m+eWAADczPWBfP1Vw4H8OoEMAMgj1wfytUsXyzCk196y7rrbAADnc30gFxb4dFV4od4806vB9FC+mwMAcCnXB7IkLb+qWBcHh/TGO8y2BgDkB4Es6cPLhhcFOfnG2Ty3BADgVgSypJXXlMjnNXTyrwQyACA/CGRJBQGv/ukDxfpH9wWdv9Cf7+YAAFyIQB5R9aElkkQvGQCQFwTyiOrryiRJJ16N5rklAAA3IpBHVJQW6Zr3hXTqjXOKJwby3RwAgMsQyGP8x39XoSHT1Iv/rzvfTQEAuAyBPMZ/WFkhQ1Lr/z2T76YAAFyGQB6jJFSgDy8r1V9Px/X3M735bg4AwEUI5MusrblKkvTci2/luSUAADchkC+z6kNLVFFapLZXuvQu1yQDAOYJgXwZj2Ho1hs+oMG0qf/+v/+e7+YAAFyCQJ5A7Ufer/LiQh3/82l19yTy3RwAgAsQyBPweT26/ZMfUnrI1DP/9rpM08x3kwAADkcgT6JmRblWXF2sP78eU9vLXfluDgDA4QjkSXgMQ1++baUCfo9+cexVdTF0DQCYQwTyFMqLC/VfblmuRP+g9v/qpBKpwXw3CQDgUATyNGo/Uqm1NVfpnVif/vlf/kwoAwDmBIE8A5s+db1u/PD79MY7cT34yxOKnk/mu0kAAIchkGfA4zG05T+t1Kc+tlRvR/v0Xw/9H/2vk53MvgYA5AyBPEMej6E7b/0nbV6/QmnT1JO/fUU/OHJCJ984qyGCGQAwS758N8BuaqsrtfKDJWr6t9d14tWo/tu/dKhscVC1H3m/Pro8rKVlC2QYRr6bCQCwGQL5CpQtLlTj7VX625m4jr90Wm0vd+tfn39T//r8m1q0IKAVVxfr6oqQrgov0PtKi1QSCsrvYzACADA5AnkWPvi+Rfry+kXa+Knr1f5qVC//7Zxe/luP/vRKt/70SnfWvqEiv0pDQS1aEFBR0KfCAp8KC7wqKhh+7Pd65PN5hn96PfL5jEuPvR55PIY8hkZ+GjKM4WulPR5DRubnyDbDkMcjpQYGdXFwSB6PZBiGDIneOwBYlGHmcWZSNJrbew6Hw6GcH/O9Mk1T0fNJvR3t09vdF9R9Pqlz8ZR6evt1rrdfFweH8tq+UcbI/wwNB7mkkZ/Dv2fCO/N45LnM40vhPrq/jEvPj3vusvcxdOnYY1839riZdmY9yHqY9Zsx2T4jv/h8XqXH1n+S/Y2JXjyD4w8/nHinrONnvXaCzzquDWO3T/zE5G2b+PgypEDAp4GBK7uMz9AkDZzJa/P8N+Fkbx8o8Gmgf+p65PsP2vl8+4ICn/rH1GO2n31Wr57l557Ny68KL9SnP7EsZ/kSDocmfY4eco4ZhqHykiKVlxTpY8vDWc+ZpqnUQFrJ/sGR/9JK9A9merIX00MaHBzSYNoc83h4uzkkDZnm8H9Dpkxzkt/HPPb5vepPXdSQOfzepimZww2RqdHHkjn8v+FtIxvNzO8TPJd5nTIzzccde+T9NOZ1w+0Y3TaUdZxLrxtf08n+Zhy7OXsPc8J9DEMaMse/wNTEBxp7zOwmTHz8yds2/fEBWNMbnXH95zUfnJf3IpDnkWEYI0PV81N2K4wYWIld6jH2D5BJ/g7ICvmZ/FEw0R8RZeGQYldQj1n9ITHLv0LMWR5gqvHAsrKFisUuzOr4V/reMzzCvL6ybMlCxc4O1yOfF5LMdhB3tk0vDPjk8czP0ASBDFjMhEP2U/9yRQr8XgX83lkfxymKgv55+2PZDhYWBZTs8+e7Ga7C1F8AACyAQAYAwAIIZAAALIBABgDAAnI+g+EHP/iBOjo6ZBiGvv3tb+sjH/lIrt8CAADHyWkg/+lPf9Lf//53NTU16fXXX9e9996rZ599NpdvAQCAI+V0yLq1tVVr166VJF133XWKx+O6cGHurusDAMApchrIsVhMJSUlmd+XLFmiaDSay7cAAMCRcjpkffmKKqZpTrn+aUlJkXy+3C5MMNU6oW5EPbJRj2zUIxv1yEY9ss11PXIayBUVFYrFYpnfu7u7VVZWNun+PT2JXL69bZZGnC/UIxv1yEY9slGPbNQj23zcXCKnQ9Yf//jH1dLSIkl6+eWXVV5eroULF+byLQAAcKSc337x4Ycf1osvvijDMPTd735XK1asyOXhAQBwpLzeDxkAAAxjpS4AACyAQAYAwAIIZAAALIBABgDAAghkAAAsIOd3e8oXt99l6tSpU9q2bZuuueYaSdLy5cu1detW7dy5U+l0WuFwWPv27VMgEMhzS+fWq6++qm3btunLX/6y7rzzTnV2dk5Yg6NHj+rw4cPyeDzauHGjNmzYkO+mz4nL63H//ffrpZde0oIFCyRJW7Zs0c033+yaeuzdu1cnTpzQ4OCgvva1r6mqqsrV34/L69HW1ubK70cymdTu3bt19uxZ9ff3a9u2bVqxYsX8fzdMB2hrazO/+tWvmqZpmq+99pq5YcOGPLdo/rW1tZnf//73s7bt3r3b/N3vfmeapmk+9NBD5i9/+ct8NG3e9PX1mXfeeae5Z88e88iRI6ZpTlyDvr4+89ZbbzXj8biZTCbNdevWmT09Pfls+pyYrB4vv/zyuP3cUI/W1lZz69atpmma5rlz58xPfvKTrv5+TFYPN34/fvvb35o//XVgWdIAAAOKSURBVOlPTdM0zbffftu89dZb8/LdcMSQNXeZkvr6+sZta2trUyQSkSRFIhG1trbOd7PmVSAQ0MGDB1VeXp7ZNlENOjo6VFVVpVAopGAwqJqaGrW3t+er2XNmonpM9D1xSz1uuOEGPfLII5KkxYsXK5lMuvr7MVE94vH4uP3cUI/bbrtNd911lySps7NTFRUVefluOGLIOhaL6cMf/nDm99G7TLlp2c5EIqETJ05o69atSiaT2r59u5LJZGaIOhwOO/7OWz6fTz5f9ld6ohrEYjGVlpZm9ikrK3NkbSaqR19fn37yk58oHo+roqJCe/bscU09vF6vioqKJEnPPvusbrrpJv3xj3907fdjonqcO3fOtd8PSdq0aZPOnDmjxx57TJs3b57374YjAtl8j3eZcqIVK1aosbFRkUhEb775pjZv3qzBwcHM85fXyC3Gfg9Ga+Dm78umTZt03XXXadmyZXr00Ue1f/9+VVdXZ+3j9Ho899xzam5u1lNPPaV169Zltrv1+zG2Hi+88IKrvx/PPPOMXnnlFd1zzz15+bfDEUPW7/UuU0507bXXZoZXli1bprKyMsXjcaVSKUlSV1dX1tClWxQWFo6rwUTfl3A4nK8mzqtbbrlFy5Ytyzz+y1/+4qp6PP/883rsscd08OBBhUIh138/Lq+HW78fp06dUmdnpyRp5cqVSqfTefluOCKQucuU1NzcrJ///OeSpGg0qrNnz+r222/P1OXYsWOqra3NZxPzYs2aNeNqUF1drZMnTyoej6uvr0/t7e2qqanJc0vnx9e//nW98847kobPr19//fWuqUdvb6/27t2rxx9/XMXFxZLc/f2YqB5u/X68+OKLeuqppyQNnwJNJBJ5+W445uYSbr/L1LvvvqtvfetbSiQSGhgY0De+8Q2tXLlSu3btUn9/vyorK/XAAw/I7/fnu6lz5tSpU3rooYd0+vRp+Xw+VVRU6OGHH9bu3bvH1eD3v/+9nnzySRmGoTvvvFOf/vSn8938nJuoHp///Of15JNPqqioSIWFhXrggQe0ZMkSV9SjqalJ+/fvz/QAJenBBx/Unj17XPn9mKged9xxh44cOeK670cqldJ9992nzs5OpVIpfeMb39CqVasm/PdzLmvhmEAGAMDOHDFkDQCA3RHIAABYAIEMAIAFEMgAAFgAgQwAgAUQyAAAWACBDACABRDIAABYwP8H2JncBZRSOLwAAAAASUVORK5CYII=\n",
    "y_ = hypothesis(X,theta)\n",
    "r2_score(y,y_)"
   ]
  },
  {
   "cell_type": "code",
   "execution_count": null,
   "metadata": {},
   "outputs": [],
   "source": []
  },
  {
   "cell_type": "code",
   "execution_count": null,
   "metadata": {},
   "outputs": [],
   "source": []
  }
 ],
 "metadata": {
  "kernelspec": {
   "display_name": "Python 3",
   "language": "python",
   "name": "python3"
  },
  "language_info": {
   "codemirror_mode": {
    "name": "ipython",
    "version": 3
   },
   "file_extension": ".py",
   "mimetype": "text/x-python",
   "name": "python",
   "nbconvert_exporter": "python",
   "pygments_lexer": "ipython3",
   "version": "3.7.4"
  }
 },
 "nbformat": 4,
 "nbformat_minor": 2
}
